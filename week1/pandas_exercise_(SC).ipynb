{
  "cells": [
    {
      "cell_type": "markdown",
      "metadata": {
        "id": "view-in-github",
        "colab_type": "text"
      },
      "source": [
        "<a href=\"https://colab.research.google.com/github/kuanhoong/mlstudyjam/blob/main/week1/pandas_exercise_(SC).ipynb\" target=\"_parent\"><img src=\"https://colab.research.google.com/assets/colab-badge.svg\" alt=\"Open In Colab\"/></a>"
      ]
    },
    {
      "cell_type": "markdown",
      "metadata": {
        "id": "lPdGorKasUlD"
      },
      "source": [
        "## Introduction to Pandas\n",
        "\n",
        "[Pandas](http://pandas.pydata.org/) is a software library written for the Python programming language for data manipulation and analysis. In particular, it offers data structures and operations for manipulating numerical tables and time series. Pandas is free software released under the three-clause BSD license. The name is derived from the term _panel data_, an econometrics term for multidimensional structured data sets.\n",
        "\n",
        "At it's core, Pandas consists of **NumPy arrays** and additional functions to perform typical data analysis tasks.\n",
        "\n",
        "**Resources**:  \n",
        "* [Pandas Documentation](http://pandas.pydata.org/pandas-docs/stable/index.html), especially\n",
        "[10 minutes to pandas](http://pandas.pydata.org/pandas-docs/stable/10min.html)\n",
        "* [Hernan Rojas' learn-pandas](https://bitbucket.org/hrojas/learn-pandas)  \n",
        "* [Harvard CS109 lab1 content](https://github.com/cs109/2015lab1)"
      ]
    },
    {
      "cell_type": "code",
      "source": [
        "import pandas as pd"
      ],
      "metadata": {
        "id": "W0G7CMLvw-Zd"
      },
      "execution_count": null,
      "outputs": []
    },
    {
      "cell_type": "markdown",
      "metadata": {
        "id": "dWN9-z1asUlR"
      },
      "source": [
        "### Exercises"
      ]
    },
    {
      "cell_type": "markdown",
      "metadata": {
        "id": "IXk7uI-OsUlR"
      },
      "source": [
        "#### Exercise 1\n",
        "Create a <u>pandas Series</u> object from the following movie ratings\n",
        "    \n",
        "    The Avengers: 9.2\n",
        "    Mr. Bean: 7.4\n",
        "    Garfield: 2.1\n",
        "    Star Wars The Force Awakens: 8.8"
      ]
    },
    {
      "cell_type": "code",
      "execution_count": null,
      "metadata": {
        "id": "mfUJM_X5sUlR"
      },
      "outputs": [],
      "source": [
        "### Your code here"
      ]
    },
    {
      "cell_type": "markdown",
      "metadata": {
        "id": "iZbC__SjsUlS"
      },
      "source": [
        "#### Exercise 2\n",
        "Select the rating for the movie 'Garfield'."
      ]
    },
    {
      "cell_type": "code",
      "execution_count": null,
      "metadata": {
        "id": "ILEF3XybsUlS"
      },
      "outputs": [],
      "source": [
        "### Your code here"
      ]
    },
    {
      "cell_type": "markdown",
      "metadata": {
        "id": "m8NUaFRqsUlT"
      },
      "source": [
        "#### Exercise 3\n",
        "Select the **index** of the 2$^{nd}$ entry"
      ]
    },
    {
      "cell_type": "code",
      "execution_count": null,
      "metadata": {
        "id": "47bsA_nDsUlU"
      },
      "outputs": [],
      "source": [
        "### Your code here"
      ]
    },
    {
      "cell_type": "markdown",
      "metadata": {
        "id": "37A2gqm-sUlf"
      },
      "source": [
        "### Exercises\n",
        "Familiarize yourselves with data frame creation and handling."
      ]
    },
    {
      "cell_type": "markdown",
      "metadata": {
        "id": "iTMVaawdsUlf"
      },
      "source": [
        "#### Exercise 4\n",
        "Manually create a dataframe from the following data. EmployeeID should be the index of the dataframe. Try using different methods (e.g. nested dictionaries, list of lists, series objects as rows or columns)\n",
        "\n",
        "\n",
        "EmployeeID | EmployeeName | Salary | Department\n",
        "---------- | ------------ | ------ | ----------\n",
        "2044       | James        |  2500  | Finance\n",
        "1082       | Hannah       | 4000   | Sales\n",
        "7386       | Victoria     | 3700   | IT"
      ]
    },
    {
      "cell_type": "code",
      "execution_count": null,
      "metadata": {
        "id": "dR9nDohisUlf"
      },
      "outputs": [],
      "source": [
        "### Your code here"
      ]
    },
    {
      "cell_type": "markdown",
      "metadata": {
        "id": "Sy8jvITNsUlg"
      },
      "source": [
        "#### Exercise 5\n",
        "Read in the chocolate.csv (https://raw.githubusercontent.com/kuanhoong/mlstudyjam/main/data/chocolate.csv) data set and display the first 8 lines"
      ]
    },
    {
      "cell_type": "code",
      "execution_count": null,
      "metadata": {
        "id": "sMmtr2UlsUlg"
      },
      "outputs": [],
      "source": [
        "### Your code here"
      ]
    },
    {
      "cell_type": "markdown",
      "metadata": {
        "id": "iwJwc-BosUlg"
      },
      "source": [
        "#### Exercise 6\n",
        "Select only the chocolates with \"Congo\" as the country of origin and show only the rating, the cocoa percent, and the country of origin (to make sure we've selected the right products)"
      ]
    },
    {
      "cell_type": "code",
      "execution_count": null,
      "metadata": {
        "id": "yaeQY4C6sUlh"
      },
      "outputs": [],
      "source": [
        "### Your code here"
      ]
    },
    {
      "cell_type": "markdown",
      "metadata": {
        "id": "CYrgyXresUlh"
      },
      "source": [
        "#### Exercise 7\n",
        "Oh no! There was a mistake in the data entry. One of the products has a missing country of origin. Please find it, replace it with \"Venezuela\", and save the fixed data frame as \"chocolate_fixed.csv\"\n",
        "\n",
        "  - You can use `*.isna()` to identify which entry of a series is either `NaN` or `None`, e.g. `mySeries.isna()`\n",
        "  - You can assign values to data frames just like you would to lists, e.g. `df.iloc[0, 5] = 15`"
      ]
    },
    {
      "cell_type": "code",
      "execution_count": null,
      "metadata": {
        "id": "xaNqVVRIsUlh"
      },
      "outputs": [],
      "source": [
        "### Your code here"
      ]
    },
    {
      "cell_type": "markdown",
      "metadata": {
        "id": "kmgcEfyssUlo"
      },
      "source": [
        "#### Exercise 8\n",
        "Load the \"cars.csv\" (https://raw.githubusercontent.com/kuanhoong/mlstudyjam/main/data/cars.csv) dataframe and calculate the average miles per gallon (column \"mpg\")"
      ]
    },
    {
      "cell_type": "code",
      "execution_count": null,
      "metadata": {
        "id": "VdKZHzR-sUlp"
      },
      "outputs": [],
      "source": [
        "### Your code here"
      ]
    },
    {
      "cell_type": "markdown",
      "metadata": {
        "id": "5cVDTnezsUlp"
      },
      "source": [
        "#### Exercise 9\n",
        "Cars can have 4, 6, or 8 cylinders (column \"cyl\"). Find the mean miles per gallon (column \"mpg\") for each of these classes **with** using the `groupby(...)` function.\n",
        "\n",
        "*BONUS: Write a function that takes the number of cylinders and returns the mean miles per gallon.*"
      ]
    },
    {
      "cell_type": "code",
      "execution_count": null,
      "metadata": {
        "id": "CtiX-zJjsUlp"
      },
      "outputs": [],
      "source": [
        "### Your code here"
      ]
    },
    {
      "cell_type": "markdown",
      "metadata": {
        "id": "9Hg2wS_7sUlp"
      },
      "source": [
        "#### Exercise 10\n",
        "Repeat the above exercise but this time make use of the `groupby(...)` function."
      ]
    },
    {
      "cell_type": "code",
      "execution_count": null,
      "metadata": {
        "id": "viMaYWCasUlq"
      },
      "outputs": [],
      "source": [
        "### Your code here"
      ]
    },
    {
      "cell_type": "markdown",
      "metadata": {
        "id": "vKSA00w4sUlq"
      },
      "source": [
        "#### Exercise 11\n",
        "Your client has a proprietary metric for car engine quality that is calculated as $Q = \\frac{hp}{wt^2}$. Calculate this metric for all cars and then find the average for cars with a manual (column \"am\" == 1) or automatic (column \"am\" == 0) transmission.\n",
        "\n",
        "**HINT** You can add the new metric as a column to your data frame via `cars[\"q_metric\"] = ...`. Assignments to unknown column (or row) index names will result in new columns (or rows) to be appended to the data frame."
      ]
    },
    {
      "cell_type": "code",
      "execution_count": null,
      "metadata": {
        "id": "o2KVGRRDsUlq"
      },
      "outputs": [],
      "source": [
        "### Your code here"
      ]
    },
    {
      "cell_type": "markdown",
      "metadata": {
        "id": "4jMWBPqgsUlt"
      },
      "source": [
        "#### Exercise 12\n",
        "Merge the three data frames so that we have all information available for Bob, Alice, Kevin, and Joshua in a single data frame"
      ]
    },
    {
      "cell_type": "code",
      "execution_count": null,
      "metadata": {
        "id": "nzp6ZB21sUlt"
      },
      "outputs": [],
      "source": [
        "salaries = pd.DataFrame(\n",
        "    data=[[\"Bob\", 5000], [\"Alice\", 4000], [\"Kevin\", 8000]], \n",
        "    columns=[\"Name\", \"Salary\"])\n",
        "departments = pd.DataFrame(\n",
        "    data=[[\"Kevin\", \"IT\"], [\"Joshua\", \"Data Science\"], [\"Bob\", \"Data Science\"]], \n",
        "    columns=[\"Name\", \"Department\"])\n",
        "supervisors = pd.DataFrame(\n",
        "    data=[[\"IT\", \"Jeremy\"], [\"Data Science\", \"Darren\"], [\"Sales\", \"Yvonne\"]], \n",
        "    columns=[\"Department\", \"Supervisor\"])"
      ]
    },
    {
      "cell_type": "code",
      "execution_count": null,
      "metadata": {
        "id": "_NmyrxzosUlt"
      },
      "outputs": [],
      "source": [
        "display(salaries, departments, supervisors)"
      ]
    },
    {
      "cell_type": "code",
      "execution_count": null,
      "metadata": {
        "id": "4aU0XK16sUlt"
      },
      "outputs": [],
      "source": [
        "### Your code here"
      ]
    },
    {
      "cell_type": "markdown",
      "metadata": {
        "id": "oku6vHkfsUlu"
      },
      "source": [
        "## Exploratory Data Analysis\n",
        "A large part of our task as data scientists and analysts is to find patterns and interesting phenomena within data. We can make use of Pandas' vast assortment of functions to help us with this. The following exercises are designed to help you get an idea of the kind of questions you can answer with Pandas.\n",
        "\n",
        "This dataset describes all olympic athletes, the year they participated, the event they participated in, and whether they received a medal. The data is split into two files, `olympics_events.csv` and `olympics_games.csv`, describing the events and metadata of the games, respectively. The data has been adjusted from https://www.kaggle.com/heesoo37/120-years-of-olympic-history-athletes-and-results"
      ]
    },
    {
      "cell_type": "markdown",
      "metadata": {
        "id": "3ZDvoT4_sUlu"
      },
      "source": [
        "### Exercise 1\n",
        "1. Load the two files, `olympics_events.csv` (https://raw.githubusercontent.com/kuanhoong/mlstudyjam/main/data/olympics_events.csv) and `olympics_games.csv` (https://raw.githubusercontent.com/kuanhoong/mlstudyjam/main/data/olympics_games.csv), and display the first 10 lines of each data frame."
      ]
    },
    {
      "cell_type": "code",
      "execution_count": null,
      "metadata": {
        "id": "8oAxbZBOsUlu"
      },
      "outputs": [],
      "source": [
        "### Your code here"
      ]
    },
    {
      "cell_type": "markdown",
      "metadata": {
        "id": "cWW9lO5ZsUlv"
      },
      "source": [
        "2. Merge the two data frames on the `GamesID` and `ID` columns. Join = **outer**. Drop the now-unnecessary id-columns afterwards."
      ]
    },
    {
      "cell_type": "code",
      "execution_count": null,
      "metadata": {
        "id": "Ir_k2YQNsUlv"
      },
      "outputs": [],
      "source": [
        "### Your code here"
      ]
    },
    {
      "cell_type": "markdown",
      "metadata": {
        "id": "PMIATWVVsUlv"
      },
      "source": [
        "### Exercise 2\n",
        "History lesson! Malaysia's olympic nationality code is `MAS`. Prior to this, the Federation of Malaya competed under the code `MAL`. Likewise, Sarawak and Sabah competed as North Borneo (`NBO`).\n",
        "\n",
        "1. In which years did the Federation of Malaya compete in the Olympics?"
      ]
    },
    {
      "cell_type": "code",
      "execution_count": null,
      "metadata": {
        "id": "_651_kCmsUlw"
      },
      "outputs": [],
      "source": [
        "### Your code here"
      ]
    },
    {
      "cell_type": "markdown",
      "metadata": {
        "id": "zTGzqfAjsUlw"
      },
      "source": [
        "2. How many athletes did they send?"
      ]
    },
    {
      "cell_type": "code",
      "execution_count": null,
      "metadata": {
        "id": "dUpLi7DSsUlw"
      },
      "outputs": [],
      "source": [
        "### Your code here"
      ]
    },
    {
      "cell_type": "markdown",
      "metadata": {
        "id": "PwKMkDKTsUlw"
      },
      "source": [
        "3. Who were the first countries to participate in the Olympic games (as per this data set)?"
      ]
    },
    {
      "cell_type": "code",
      "execution_count": null,
      "metadata": {
        "id": "o6GHcLvYsUlx"
      },
      "outputs": [],
      "source": [
        "### Your code here"
      ]
    },
    {
      "cell_type": "markdown",
      "metadata": {
        "id": "M0Wj7OqqsUlx"
      },
      "source": [
        "4. How many men and women has Malaysia (`MAS`) sent to the Olympics in total? Keep in mind that athletes can participate in multiple events and multiple years. Each person should only ever be counted once.\n",
        "\n",
        "*HINT*: As we're only interested in athlete names and their genders, it's easiest to drop other columns and not have to worry about them. Create a new data frame but don't overwrite `events` as we'll need it for later exercises as well, though."
      ]
    },
    {
      "cell_type": "code",
      "execution_count": null,
      "metadata": {
        "id": "C7BFsGsgsUlx"
      },
      "outputs": [],
      "source": [
        "### Your code here"
      ]
    },
    {
      "cell_type": "markdown",
      "metadata": {
        "id": "6z4q6Ig1sUly"
      },
      "source": [
        "### Exercise 3\n",
        "1. How many men and women has Malaysia (`MAS`) sent to the Olympics each year?\n",
        "\n",
        "    Hint: This is a lot like the previous question except that athletes only count as duplicate now if they compete in multiple events in the same year. An athlete competing in multiple years is no longer duplicate."
      ]
    },
    {
      "cell_type": "code",
      "execution_count": null,
      "metadata": {
        "id": "JpzY_0hNsUly"
      },
      "outputs": [],
      "source": [
        "### Your code here"
      ]
    },
    {
      "cell_type": "markdown",
      "metadata": {
        "id": "bxa63mklsUly"
      },
      "source": [
        "### Exercise 4\n",
        "Let's start looking at some of the numerical data!\n",
        "\n",
        "1. How many gold medals has each country won? How about Malaysia (`MAS`)?"
      ]
    },
    {
      "cell_type": "code",
      "execution_count": null,
      "metadata": {
        "id": "9XnyBTG7sUly"
      },
      "outputs": [],
      "source": [
        "### Your code here"
      ]
    },
    {
      "cell_type": "markdown",
      "metadata": {
        "id": "TGdCyXlHsUlz"
      },
      "source": [
        "### Exercise 5\n",
        "1. What is the median age of gold medalists?"
      ]
    },
    {
      "cell_type": "code",
      "execution_count": null,
      "metadata": {
        "id": "7MtPiAbHsUlz"
      },
      "outputs": [],
      "source": [
        "### Your code here"
      ]
    },
    {
      "cell_type": "markdown",
      "metadata": {
        "id": "a5GfdFbZsUlz"
      },
      "source": [
        "2. What is the median age of gold, silver, and bronze medalists for each individual sport?"
      ]
    },
    {
      "cell_type": "code",
      "execution_count": null,
      "metadata": {
        "id": "5ea78yxfsUlz"
      },
      "outputs": [],
      "source": [
        "### Your code here"
      ]
    },
    {
      "cell_type": "markdown",
      "metadata": {
        "id": "mG2OlzDssUl0"
      },
      "source": [
        "2. Look at only swimmers. How has the mean weight of all competitors changed throughout the years? Use `*.plot()` to get a visual sense of the trend."
      ]
    },
    {
      "cell_type": "code",
      "execution_count": null,
      "metadata": {
        "id": "JJpWhO4PsUl0"
      },
      "outputs": [],
      "source": [
        "### Your code here"
      ]
    },
    {
      "cell_type": "markdown",
      "metadata": {
        "id": "NAUabg_ksUl0"
      },
      "source": [
        "3. What is the mean and standard deviation of the BMI of athletes in each sports discipline? The BMI can be computed as \n",
        "\n",
        "    $$BMI = Weight~/~\\left(\\frac{Height}{100}\\right)^2$$\n",
        "\n",
        "    with the values in this dataset. To solve this question, break it down into individual steps:\n",
        "    - Calculate the BMI for all athletes\n",
        "    - Group by 'Sport'\n",
        "    - Calculate the mean and standard deviation of the BMI of the grouped data frame\n",
        "    \n",
        "    *Hint*: Use `*.agg([..., ...])` to apply \"mean\" and \"std\" (standard deviation) simultaneously."
      ]
    },
    {
      "cell_type": "code",
      "execution_count": null,
      "metadata": {
        "id": "pfbX1vOhsUl0"
      },
      "outputs": [],
      "source": [
        "### Your code here"
      ]
    },
    {
      "cell_type": "markdown",
      "metadata": {
        "id": "iFVN1aHssUl0"
      },
      "source": [
        "### Exercise 6\n",
        "1. What country has the most gold medals in wrestling?"
      ]
    },
    {
      "cell_type": "code",
      "execution_count": null,
      "metadata": {
        "id": "Oz3FHq93sUmA"
      },
      "outputs": [],
      "source": [
        "### Your code here"
      ]
    },
    {
      "cell_type": "markdown",
      "metadata": {
        "id": "RSGdDoDUsUmB"
      },
      "source": [
        "2. How many different types of events have ever been held for fencing?"
      ]
    },
    {
      "cell_type": "code",
      "execution_count": null,
      "metadata": {
        "id": "ipzf7cOCsUmB"
      },
      "outputs": [],
      "source": [
        "### Your code here"
      ]
    }
  ],
  "metadata": {
    "anaconda-cloud": {},
    "kernelspec": {
      "display_name": "Python 3",
      "language": "python",
      "name": "python3"
    },
    "language_info": {
      "codemirror_mode": {
        "name": "ipython",
        "version": 3
      },
      "file_extension": ".py",
      "mimetype": "text/x-python",
      "name": "python",
      "nbconvert_exporter": "python",
      "pygments_lexer": "ipython3",
      "version": "3.8.3"
    },
    "colab": {
      "name": "pandas_exercise (SC).ipynb",
      "provenance": [],
      "collapsed_sections": [],
      "include_colab_link": true
    }
  },
  "nbformat": 4,
  "nbformat_minor": 0
}